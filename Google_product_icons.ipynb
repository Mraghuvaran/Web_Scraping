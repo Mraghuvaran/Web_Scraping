{
 "cells": [
  {
   "cell_type": "code",
   "execution_count": 48,
   "metadata": {},
   "outputs": [],
   "source": [
    "#Importing packages required for scraping the data from web\n",
    "\n",
    "import requests\n",
    "\n",
    "from  bs4 import BeautifulSoup\n",
    "\n",
    "import urllib.request as request\n",
    "\n",
    "\n",
    "#requesting for the web page to give information\n",
    "\n",
    "response = request.urlopen('https://about.google/products/')\n",
    "\n",
    "#converting required page into soup object\n",
    "\n",
    "soup = BeautifulSoup(response, 'html.parser')"
   ]
  },
  {
   "cell_type": "markdown",
   "metadata": {},
   "source": [
    "## User ICons"
   ]
  },
  {
   "cell_type": "code",
   "execution_count": 49,
   "metadata": {},
   "outputs": [],
   "source": [
    "# Initially we'll scarape the User icons\n",
    "\n",
    "#Since user icons are in the class 'Product-icon-list', we'll store them in a object & then use it \n",
    "\n",
    "iconTable = soup.find('ul', {'class':'product-icon-list'})\n",
    "\n",
    "icons = iconTable.find_all('li')"
   ]
  },
  {
   "cell_type": "code",
   "execution_count": 50,
   "metadata": {},
   "outputs": [],
   "source": [
    "#Defining the folder to save the images \n",
    "folder = r'G:\\Insofe_class_lectures\\text_mining\\TextMining_Lab03\\webscrapping\\google_product_Images' + '\\\\'"
   ]
  },
  {
   "cell_type": "code",
   "execution_count": 51,
   "metadata": {},
   "outputs": [],
   "source": [
    "#this code will save the images into the folder assigned\n",
    "for icon in icons:\n",
    "    request.urlretrieve(icon.img['data-lazy-src'], folder + icon.img['alt'] + '.jpeg')"
   ]
  },
  {
   "cell_type": "markdown",
   "metadata": {},
   "source": [
    "## Business_Icons"
   ]
  },
  {
   "cell_type": "code",
   "execution_count": 65,
   "metadata": {},
   "outputs": [],
   "source": [
    "business = soup.find(id= 'zippy-2')\n",
    "\n",
    "business_icons = business.find('ul', {'class':'product-icon-list'})\n",
    "icons_1 = business_icons.find_all('li')\n",
    "\n",
    "folder_1 = r'G:\\Insofe_class_lectures\\text_mining\\TextMining_Lab03\\webscrapping\\google_product_Images\\business_icons' + '\\\\'\n",
    "\n",
    "\n",
    "for icon in icons_1:\n",
    "    request.urlretrieve(icon.img['data-lazy-src'], folder_1 + icon.img['alt'] + '.jpeg')"
   ]
  },
  {
   "cell_type": "markdown",
   "metadata": {},
   "source": [
    "## Developer Icons\n"
   ]
  },
  {
   "cell_type": "code",
   "execution_count": 66,
   "metadata": {},
   "outputs": [],
   "source": [
    "developer_icons = soup.find(id= 'zippy-3')\n",
    "\n",
    "developer = developer_icons.find('ul', {'class':'product-icon-list'})\n",
    "icons_1 = developer.find_all('li')\n",
    "\n",
    "folder_2 = r'G:\\Insofe_class_lectures\\text_mining\\TextMining_Lab03\\webscrapping\\google_product_Images\\Developer' + '\\\\'\n",
    "\n",
    "\n",
    "for icon in icons_1:\n",
    "    request.urlretrieve(icon.img['data-lazy-src'], folder_2 + icon.img['alt'] + '.jpeg')"
   ]
  }
 ],
 "metadata": {
  "kernelspec": {
   "display_name": "Python 3",
   "language": "python",
   "name": "python3"
  },
  "language_info": {
   "codemirror_mode": {
    "name": "ipython",
    "version": 3
   },
   "file_extension": ".py",
   "mimetype": "text/x-python",
   "name": "python",
   "nbconvert_exporter": "python",
   "pygments_lexer": "ipython3",
   "version": "3.7.3"
  }
 },
 "nbformat": 4,
 "nbformat_minor": 2
}
