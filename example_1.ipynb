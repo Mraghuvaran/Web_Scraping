{
 "cells": [
  {
   "cell_type": "code",
   "execution_count": 1,
   "metadata": {},
   "outputs": [],
   "source": [
    "import numpy as np\n",
    "import pandas as pd\n",
    "\n",
    "#!pip install urllib\n",
    "import urllib.request as url \n",
    "\n",
    "#!pip install bs4\n",
    "from bs4 import BeautifulSoup as bs\n",
    "\n",
    "#!pip install wordcloud\n",
    "from wordcloud import WordCloud\n",
    "\n",
    "import re\n",
    "import requests\n",
    "import matplotlib.pyplot as plt\n",
    "%matplotlib inline\n",
    "\n",
    "import random\n",
    "random.seed(123)\n",
    "\n",
    "#ignore warnings\n",
    "import warnings\n",
    "warnings.filterwarnings('ignore')"
   ]
  },
  {
   "cell_type": "code",
   "execution_count": 2,
   "metadata": {},
   "outputs": [],
   "source": [
    "import requests"
   ]
  },
  {
   "cell_type": "code",
   "execution_count": 3,
   "metadata": {},
   "outputs": [],
   "source": [
    "page = requests.get('https://forecast.weather.gov/MapClick.php?lat=43.65058000000005&lon=-93.36470999999995')"
   ]
  },
  {
   "cell_type": "code",
   "execution_count": 4,
   "metadata": {},
   "outputs": [],
   "source": [
    "soup = bs(page.content, 'html.parser')"
   ]
  },
  {
   "cell_type": "code",
   "execution_count": 5,
   "metadata": {},
   "outputs": [],
   "source": [
    "week = soup.find(id='seven-day-forecast-body')"
   ]
  },
  {
   "cell_type": "code",
   "execution_count": 6,
   "metadata": {},
   "outputs": [
    {
     "data": {
      "text/plain": [
       "<div class=\"panel-body\" id=\"seven-day-forecast-body\">\n",
       "<div id=\"seven-day-forecast-container\"><ul class=\"list-unstyled\" id=\"seven-day-forecast-list\"><li class=\"forecast-tombstone\">\n",
       "<div class=\"tombstone-container\">\n",
       "<p class=\"period-name\">Overnight<br/><br/></p>\n",
       "<p><img alt=\"Overnight: A chance of rain before 3am, then a slight chance of showers and thunderstorms between 3am and 4am, then a slight chance of showers after 4am.  Mostly cloudy, with a steady temperature around 69. South southwest wind around 10 mph.  Chance of precipitation is 20%.\" class=\"forecast-icon\" src=\"newimages/medium/nshra20.png\" title=\"Overnight: A chance of rain before 3am, then a slight chance of showers and thunderstorms between 3am and 4am, then a slight chance of showers after 4am.  Mostly cloudy, with a steady temperature around 69. South southwest wind around 10 mph.  Chance of precipitation is 20%.\"/></p><p class=\"short-desc\">Chance<br/>Showers</p><p class=\"temp temp-low\">Low: 69 °F</p></div></li><li class=\"forecast-tombstone\">\n",
       "<div class=\"tombstone-container\">\n",
       "<p class=\"period-name\">Tuesday<br/><br/></p>\n",
       "<p><img alt=\"Tuesday: Mostly cloudy, then gradually becoming sunny, with a high near 82. Southwest wind 5 to 10 mph becoming light west  in the afternoon. \" class=\"forecast-icon\" src=\"newimages/medium/bkn.png\" title=\"Tuesday: Mostly cloudy, then gradually becoming sunny, with a high near 82. Southwest wind 5 to 10 mph becoming light west  in the afternoon. \"/></p><p class=\"short-desc\">Decreasing<br/>Clouds</p><p class=\"temp temp-high\">High: 82 °F</p></div></li><li class=\"forecast-tombstone\">\n",
       "<div class=\"tombstone-container\">\n",
       "<p class=\"period-name\">Tuesday<br/>Night</p>\n",
       "<p><img alt=\"Tuesday Night: A slight chance of showers and thunderstorms between 8pm and 1am, then showers and possibly a thunderstorm after 1am.  Patchy fog between 10pm and midnight. Low around 64. Calm wind.  Chance of precipitation is 80%. New rainfall amounts between a quarter and half of an inch possible. \" class=\"forecast-icon\" src=\"DualImage.php?i=hi_ntsra&amp;j=nshra&amp;ip=20&amp;jp=80\" title=\"Tuesday Night: A slight chance of showers and thunderstorms between 8pm and 1am, then showers and possibly a thunderstorm after 1am.  Patchy fog between 10pm and midnight. Low around 64. Calm wind.  Chance of precipitation is 80%. New rainfall amounts between a quarter and half of an inch possible. \"/></p><p class=\"short-desc\">Slight Chance<br/>T-storms and<br/>Patchy Fog<br/>then Showers</p><p class=\"temp temp-low\">Low: 64 °F</p></div></li><li class=\"forecast-tombstone\">\n",
       "<div class=\"tombstone-container\">\n",
       "<p class=\"period-name\">Wednesday<br/><br/></p>\n",
       "<p><img alt=\"Wednesday: Showers and possibly a thunderstorm.  High near 82. South wind around 5 mph.  Chance of precipitation is 80%. New rainfall amounts between a quarter and half of an inch possible. \" class=\"forecast-icon\" src=\"newimages/medium/shra80.png\" title=\"Wednesday: Showers and possibly a thunderstorm.  High near 82. South wind around 5 mph.  Chance of precipitation is 80%. New rainfall amounts between a quarter and half of an inch possible. \"/></p><p class=\"short-desc\">Showers</p><p class=\"temp temp-high\">High: 82 °F</p></div></li><li class=\"forecast-tombstone\">\n",
       "<div class=\"tombstone-container\">\n",
       "<p class=\"period-name\">Wednesday<br/>Night</p>\n",
       "<p><img alt=\"Wednesday Night: Showers and thunderstorms.  Low around 66. South wind around 5 mph.  Chance of precipitation is 90%. New rainfall amounts between three quarters and one inch possible. \" class=\"forecast-icon\" src=\"newimages/medium/ntsra90.png\" title=\"Wednesday Night: Showers and thunderstorms.  Low around 66. South wind around 5 mph.  Chance of precipitation is 90%. New rainfall amounts between three quarters and one inch possible. \"/></p><p class=\"short-desc\">T-storms</p><p class=\"temp temp-low\">Low: 66 °F</p></div></li><li class=\"forecast-tombstone\">\n",
       "<div class=\"tombstone-container\">\n",
       "<p class=\"period-name\">Thursday<br/><br/></p>\n",
       "<p><img alt=\"Thursday: Showers and thunderstorms.  High near 79. South wind 5 to 15 mph, with gusts as high as 25 mph.  Chance of precipitation is 80%. New rainfall amounts between a quarter and half of an inch possible. \" class=\"forecast-icon\" src=\"newimages/medium/tsra80.png\" title=\"Thursday: Showers and thunderstorms.  High near 79. South wind 5 to 15 mph, with gusts as high as 25 mph.  Chance of precipitation is 80%. New rainfall amounts between a quarter and half of an inch possible. \"/></p><p class=\"short-desc\">T-storms</p><p class=\"temp temp-high\">High: 79 °F</p></div></li><li class=\"forecast-tombstone\">\n",
       "<div class=\"tombstone-container\">\n",
       "<p class=\"period-name\">Thursday<br/>Night</p>\n",
       "<p><img alt=\"Thursday Night: A 40 percent chance of showers and thunderstorms before 1am.  Partly cloudy, with a low around 54. Southwest wind 10 to 15 mph. \" class=\"forecast-icon\" src=\"newimages/medium/hi_nshwrs40.png\" title=\"Thursday Night: A 40 percent chance of showers and thunderstorms before 1am.  Partly cloudy, with a low around 54. Southwest wind 10 to 15 mph. \"/></p><p class=\"short-desc\">Chance<br/>Showers</p><p class=\"temp temp-low\">Low: 54 °F</p></div></li><li class=\"forecast-tombstone\">\n",
       "<div class=\"tombstone-container\">\n",
       "<p class=\"period-name\">Friday<br/><br/></p>\n",
       "<p><img alt=\"Friday: Mostly sunny, with a high near 65. Breezy, with a west wind 15 to 20 mph, with gusts as high as 30 mph. \" class=\"forecast-icon\" src=\"newimages/medium/wind_sct.png\" title=\"Friday: Mostly sunny, with a high near 65. Breezy, with a west wind 15 to 20 mph, with gusts as high as 30 mph. \"/></p><p class=\"short-desc\">Mostly Sunny<br/>and Breezy</p><p class=\"temp temp-high\">High: 65 °F</p></div></li><li class=\"forecast-tombstone\">\n",
       "<div class=\"tombstone-container\">\n",
       "<p class=\"period-name\">Friday<br/>Night</p>\n",
       "<p><img alt=\"Friday Night: Mostly clear, with a low around 50. West wind 10 to 15 mph becoming light  in the evening. \" class=\"forecast-icon\" src=\"newimages/medium/nfew.png\" title=\"Friday Night: Mostly clear, with a low around 50. West wind 10 to 15 mph becoming light  in the evening. \"/></p><p class=\"short-desc\">Mostly Clear</p><p class=\"temp temp-low\">Low: 50 °F</p></div></li></ul></div>\n",
       "<script type=\"text/javascript\">\n",
       "// equalize forecast heights\n",
       "$(function () {\n",
       "\tvar maxh = 0;\n",
       "\t$(\".forecast-tombstone .short-desc\").each(function () {\n",
       "\t\tvar h = $(this).height();\n",
       "\t\tif (h > maxh) { maxh = h; }\n",
       "\t});\n",
       "\t$(\".forecast-tombstone .short-desc\").height(maxh);\n",
       "});\n",
       "</script> </div>"
      ]
     },
     "execution_count": 6,
     "metadata": {},
     "output_type": "execute_result"
    }
   ],
   "source": [
    "week"
   ]
  },
  {
   "cell_type": "code",
   "execution_count": 7,
   "metadata": {},
   "outputs": [],
   "source": [
    "week = soup.find_all(class_ = 'tombstone-container')\n",
    "\n",
    "period_name = [item.find(class_ = 'period-name').get_text() for item in week]\n",
    "short_desc = [item.find(class_ = 'short-desc').get_text() for item in week]\n",
    "temp = [item.find(class_ = 'temp').get_text() for item in week]"
   ]
  },
  {
   "cell_type": "code",
   "execution_count": 8,
   "metadata": {},
   "outputs": [],
   "source": [
    "import pandas as pd \n",
    "\n",
    "weather = pd.DataFrame({'period':period_name,\n",
    "                       'short': short_desc,\n",
    "                       'temperature':temp})"
   ]
  },
  {
   "cell_type": "code",
   "execution_count": 9,
   "metadata": {},
   "outputs": [
    {
     "data": {
      "text/html": [
       "<div>\n",
       "<style scoped>\n",
       "    .dataframe tbody tr th:only-of-type {\n",
       "        vertical-align: middle;\n",
       "    }\n",
       "\n",
       "    .dataframe tbody tr th {\n",
       "        vertical-align: top;\n",
       "    }\n",
       "\n",
       "    .dataframe thead th {\n",
       "        text-align: right;\n",
       "    }\n",
       "</style>\n",
       "<table border=\"1\" class=\"dataframe\">\n",
       "  <thead>\n",
       "    <tr style=\"text-align: right;\">\n",
       "      <th></th>\n",
       "      <th>period</th>\n",
       "      <th>short</th>\n",
       "      <th>temperature</th>\n",
       "    </tr>\n",
       "  </thead>\n",
       "  <tbody>\n",
       "    <tr>\n",
       "      <th>0</th>\n",
       "      <td>Overnight</td>\n",
       "      <td>ChanceShowers</td>\n",
       "      <td>Low: 69 °F</td>\n",
       "    </tr>\n",
       "    <tr>\n",
       "      <th>1</th>\n",
       "      <td>Tuesday</td>\n",
       "      <td>DecreasingClouds</td>\n",
       "      <td>High: 82 °F</td>\n",
       "    </tr>\n",
       "    <tr>\n",
       "      <th>2</th>\n",
       "      <td>TuesdayNight</td>\n",
       "      <td>Slight ChanceT-storms andPatchy Fogthen Showers</td>\n",
       "      <td>Low: 64 °F</td>\n",
       "    </tr>\n",
       "    <tr>\n",
       "      <th>3</th>\n",
       "      <td>Wednesday</td>\n",
       "      <td>Showers</td>\n",
       "      <td>High: 82 °F</td>\n",
       "    </tr>\n",
       "    <tr>\n",
       "      <th>4</th>\n",
       "      <td>WednesdayNight</td>\n",
       "      <td>T-storms</td>\n",
       "      <td>Low: 66 °F</td>\n",
       "    </tr>\n",
       "    <tr>\n",
       "      <th>5</th>\n",
       "      <td>Thursday</td>\n",
       "      <td>T-storms</td>\n",
       "      <td>High: 79 °F</td>\n",
       "    </tr>\n",
       "    <tr>\n",
       "      <th>6</th>\n",
       "      <td>ThursdayNight</td>\n",
       "      <td>ChanceShowers</td>\n",
       "      <td>Low: 54 °F</td>\n",
       "    </tr>\n",
       "    <tr>\n",
       "      <th>7</th>\n",
       "      <td>Friday</td>\n",
       "      <td>Mostly Sunnyand Breezy</td>\n",
       "      <td>High: 65 °F</td>\n",
       "    </tr>\n",
       "    <tr>\n",
       "      <th>8</th>\n",
       "      <td>FridayNight</td>\n",
       "      <td>Mostly Clear</td>\n",
       "      <td>Low: 50 °F</td>\n",
       "    </tr>\n",
       "  </tbody>\n",
       "</table>\n",
       "</div>"
      ],
      "text/plain": [
       "           period                                            short  \\\n",
       "0       Overnight                                    ChanceShowers   \n",
       "1         Tuesday                                 DecreasingClouds   \n",
       "2    TuesdayNight  Slight ChanceT-storms andPatchy Fogthen Showers   \n",
       "3       Wednesday                                          Showers   \n",
       "4  WednesdayNight                                         T-storms   \n",
       "5        Thursday                                         T-storms   \n",
       "6   ThursdayNight                                    ChanceShowers   \n",
       "7          Friday                           Mostly Sunnyand Breezy   \n",
       "8     FridayNight                                     Mostly Clear   \n",
       "\n",
       "   temperature  \n",
       "0   Low: 69 °F  \n",
       "1  High: 82 °F  \n",
       "2   Low: 64 °F  \n",
       "3  High: 82 °F  \n",
       "4   Low: 66 °F  \n",
       "5  High: 79 °F  \n",
       "6   Low: 54 °F  \n",
       "7  High: 65 °F  \n",
       "8   Low: 50 °F  "
      ]
     },
     "execution_count": 9,
     "metadata": {},
     "output_type": "execute_result"
    }
   ],
   "source": [
    "weather"
   ]
  },
  {
   "cell_type": "code",
   "execution_count": 10,
   "metadata": {},
   "outputs": [],
   "source": [
    "page1 = requests.get(\"https://forecast.weather.gov/MapClick.php?lat=43.65058000000005&lon=-93.36470999999995\")"
   ]
  },
  {
   "cell_type": "code",
   "execution_count": 11,
   "metadata": {},
   "outputs": [],
   "source": [
    "soup1 = bs(page1.content, 'html.parser')"
   ]
  },
  {
   "cell_type": "code",
   "execution_count": 12,
   "metadata": {},
   "outputs": [],
   "source": [
    "week = soup.find(id='current-conditions-body')"
   ]
  },
  {
   "cell_type": "code",
   "execution_count": 13,
   "metadata": {},
   "outputs": [
    {
     "name": "stdout",
     "output_type": "stream",
     "text": [
      "<div class=\"pull-left\" id=\"current_conditions_detail\">\n",
      "<table>\n",
      "<tr>\n",
      "<td class=\"text-right\"><b>Humidity</b></td>\n",
      "<td>83%</td>\n",
      "</tr>\n",
      "<tr>\n",
      "<td class=\"text-right\"><b>Wind Speed</b></td>\n",
      "<td>SW 5 mph</td>\n",
      "</tr>\n",
      "<tr>\n",
      "<td class=\"text-right\"><b>Barometer</b></td>\n",
      "<td>29.87 in</td>\n",
      "</tr>\n",
      "<tr>\n",
      "<td class=\"text-right\"><b>Dewpoint</b></td>\n",
      "<td>64°F (18°C)</td>\n",
      "</tr>\n",
      "<tr>\n",
      "<td class=\"text-right\"><b>Visibility</b></td>\n",
      "<td>10.00 mi</td>\n",
      "</tr>\n",
      "<tr>\n",
      "<td class=\"text-right\"><b>Last update</b></td>\n",
      "<td>\n",
      "                10 Sep 1:15 am CDT            </td>\n",
      "</tr>\n",
      "</table>\n",
      "</div>\n",
      "Wind Speed\n",
      "Barometer\n",
      "Dewpoint\n",
      "Visibility\n",
      "Last update\n"
     ]
    }
   ],
   "source": [
    "deatils = week.find(id='current_conditions_detail')\n",
    "print(deatils)\n",
    "\n",
    "#details = deatils.find('table')\n",
    "#for td in details:\n",
    "    #print(td)\n",
    "    \n",
    "for row in deatils.table.find_all('tr')[1:]:\n",
    "        print(row.td.text)"
   ]
  },
  {
   "cell_type": "code",
   "execution_count": 14,
   "metadata": {},
   "outputs": [
    {
     "name": "stdout",
     "output_type": "stream",
     "text": [
      "**************\n",
      "Humidity\n",
      "83%\n",
      "**************\n",
      "Wind Speed\n",
      "SW 5 mph\n",
      "**************\n",
      "Barometer\n",
      "29.87 in\n",
      "**************\n",
      "Dewpoint\n",
      "64°F (18°C)\n",
      "**************\n",
      "Visibility\n",
      "10.00 mi\n",
      "**************\n",
      "Last update\n",
      "\n",
      "                10 Sep 1:15 am CDT            \n"
     ]
    }
   ],
   "source": [
    "#d = {'Title':[], \"Value\":[]}\n",
    "for row in deatils.table.find_all('tr'):\n",
    "        #print(row.text)\n",
    "        print(\"**************\")\n",
    "        for i in row.find_all('td'):\n",
    "            print(i.text)"
   ]
  },
  {
   "cell_type": "code",
   "execution_count": 15,
   "metadata": {},
   "outputs": [
    {
     "name": "stdout",
     "output_type": "stream",
     "text": [
      "**************\n",
      "2\n",
      "83%\n",
      "**************\n",
      "4\n",
      "SW 5 mph\n",
      "**************\n",
      "6\n",
      "29.87 in\n",
      "**************\n",
      "8\n",
      "64°F (18°C)\n",
      "**************\n",
      "10\n",
      "10.00 mi\n",
      "**************\n",
      "12\n",
      "\n",
      "                10 Sep 1:15 am CDT            \n"
     ]
    }
   ],
   "source": [
    "d = {'Title':[], \"Value\":[]}\n",
    "count =0\n",
    "count_td = 0\n",
    "for row in deatils.table.find_all('tr'):\n",
    "        #print(row.text)\n",
    "        print(\"**************\")\n",
    "        count += count\n",
    "        for i in row.find_all('td'):\n",
    "            count_td = count_td + 1\n",
    "            if count_td%2==0:\n",
    "                print(count_td)\n",
    "                print(i.text)\n",
    "                d['Value'].append(i.text)\n",
    "            else:\n",
    "                d['Title'].append(i.text)\n",
    "            #print(\"******\")\n",
    "            #d.append(i.text)\n",
    "            #d['key'] = i.text"
   ]
  },
  {
   "cell_type": "code",
   "execution_count": 16,
   "metadata": {},
   "outputs": [
    {
     "data": {
      "text/html": [
       "<div>\n",
       "<style scoped>\n",
       "    .dataframe tbody tr th:only-of-type {\n",
       "        vertical-align: middle;\n",
       "    }\n",
       "\n",
       "    .dataframe tbody tr th {\n",
       "        vertical-align: top;\n",
       "    }\n",
       "\n",
       "    .dataframe thead th {\n",
       "        text-align: right;\n",
       "    }\n",
       "</style>\n",
       "<table border=\"1\" class=\"dataframe\">\n",
       "  <thead>\n",
       "    <tr style=\"text-align: right;\">\n",
       "      <th></th>\n",
       "      <th>Title</th>\n",
       "      <th>Value</th>\n",
       "    </tr>\n",
       "  </thead>\n",
       "  <tbody>\n",
       "    <tr>\n",
       "      <th>0</th>\n",
       "      <td>Humidity</td>\n",
       "      <td>83%</td>\n",
       "    </tr>\n",
       "    <tr>\n",
       "      <th>1</th>\n",
       "      <td>Wind Speed</td>\n",
       "      <td>SW 5 mph</td>\n",
       "    </tr>\n",
       "    <tr>\n",
       "      <th>2</th>\n",
       "      <td>Barometer</td>\n",
       "      <td>29.87 in</td>\n",
       "    </tr>\n",
       "    <tr>\n",
       "      <th>3</th>\n",
       "      <td>Dewpoint</td>\n",
       "      <td>64°F (18°C)</td>\n",
       "    </tr>\n",
       "    <tr>\n",
       "      <th>4</th>\n",
       "      <td>Visibility</td>\n",
       "      <td>10.00 mi</td>\n",
       "    </tr>\n",
       "    <tr>\n",
       "      <th>5</th>\n",
       "      <td>Last update</td>\n",
       "      <td>\\n                10 Sep 1:15 am CDT</td>\n",
       "    </tr>\n",
       "  </tbody>\n",
       "</table>\n",
       "</div>"
      ],
      "text/plain": [
       "         Title                                             Value\n",
       "0     Humidity                                               83%\n",
       "1   Wind Speed                                          SW 5 mph\n",
       "2    Barometer                                          29.87 in\n",
       "3     Dewpoint                                       64°F (18°C)\n",
       "4   Visibility                                          10.00 mi\n",
       "5  Last update  \\n                10 Sep 1:15 am CDT            "
      ]
     },
     "execution_count": 16,
     "metadata": {},
     "output_type": "execute_result"
    }
   ],
   "source": [
    "pd.DataFrame(d)"
   ]
  },
  {
   "cell_type": "code",
   "execution_count": 22,
   "metadata": {},
   "outputs": [
    {
     "name": "stdout",
     "output_type": "stream",
     "text": [
      "[<tr>\n",
      "<td class=\"text-right\"><b>Humidity</b></td>\n",
      "<td>83%</td>\n",
      "</tr>, <tr>\n",
      "<td class=\"text-right\"><b>Wind Speed</b></td>\n",
      "<td>SW 5 mph</td>\n",
      "</tr>, <tr>\n",
      "<td class=\"text-right\"><b>Barometer</b></td>\n",
      "<td>29.87 in</td>\n",
      "</tr>, <tr>\n",
      "<td class=\"text-right\"><b>Dewpoint</b></td>\n",
      "<td>64°F (18°C)</td>\n",
      "</tr>, <tr>\n",
      "<td class=\"text-right\"><b>Visibility</b></td>\n",
      "<td>10.00 mi</td>\n",
      "</tr>, <tr>\n",
      "<td class=\"text-right\"><b>Last update</b></td>\n",
      "<td>\n",
      "                10 Sep 1:15 am CDT            </td>\n",
      "</tr>]\n"
     ]
    }
   ],
   "source": [
    "list_tr_td = deatils.find_all(['tr'])\n",
    "print(list_tr_td)"
   ]
  },
  {
   "cell_type": "code",
   "execution_count": 18,
   "metadata": {},
   "outputs": [
    {
     "name": "stdout",
     "output_type": "stream",
     "text": [
      "['', 'Humidity', '83%', '']\n",
      "['Humidity']\n",
      "['83%']\n",
      "['', 'Wind Speed', 'SW 5 mph', '']\n",
      "['Wind Speed']\n",
      "\n",
      "Humidity\n",
      "83%\n",
      "\n",
      "Humidity\n",
      "83%\n",
      "\n",
      "Wind Speed\n",
      "SW 5 mph\n",
      "\n"
     ]
    }
   ],
   "source": [
    "for i in range(0,5):\n",
    "    print(list_tr_td[i].text.split(\"\\n\"))\n",
    "    \n",
    "print(list_tr_td[0].text)\n",
    "print(list_tr_td[1].text)\n",
    "print(list_tr_td[2].text)\n",
    "print(list_tr_td[3].text)"
   ]
  },
  {
   "cell_type": "code",
   "execution_count": null,
   "metadata": {},
   "outputs": [],
   "source": [
    "new_con  = deatils.find_all('b')\n",
    "print(new)"
   ]
  },
  {
   "cell_type": "code",
   "execution_count": null,
   "metadata": {},
   "outputs": [],
   "source": [
    "values = deatils.find_all('td')\n",
    "print(values)"
   ]
  },
  {
   "cell_type": "markdown",
   "metadata": {},
   "source": [
    "## Example_2"
   ]
  },
  {
   "cell_type": "code",
   "execution_count": null,
   "metadata": {},
   "outputs": [],
   "source": [
    "from bs4 import BeautifulSoup\n",
    "import requests\n",
    "\n",
    "NYC = 'https://en.wikipedia.org/wiki/List_of_high_schools_in_New_York_City'\n",
    "\n",
    "html = requests.get(NYC)\n",
    "soup = bs(html.content, 'lxml')\n",
    "schooltable = soup.find('table')\n",
    "for td in schooltable:\n",
    "    print(td)"
   ]
  },
  {
   "cell_type": "code",
   "execution_count": null,
   "metadata": {},
   "outputs": [],
   "source": [
    "for row in soup.table.find_all('tr')[1:]:\n",
    "    print(row.td.text)"
   ]
  },
  {
   "cell_type": "markdown",
   "metadata": {},
   "source": [
    "## Example_3"
   ]
  },
  {
   "cell_type": "code",
   "execution_count": 23,
   "metadata": {},
   "outputs": [],
   "source": [
    "from bs4 import BeautifulSoup\n",
    "import requests\n",
    "\n",
    "url = requests.get('https://bolajiolajide.github.io')\n",
    "source = BeautifulSoup(url.text, 'html.parser')\n",
    "post_feed = source.find('div', class_=\"post-feed\")\n",
    "posts = post_feed.find_all('article', class_=\"post-card\")"
   ]
  },
  {
   "cell_type": "code",
   "execution_count": 24,
   "metadata": {},
   "outputs": [],
   "source": [
    "single_post = posts[0]"
   ]
  },
  {
   "cell_type": "code",
   "execution_count": 25,
   "metadata": {},
   "outputs": [
    {
     "data": {
      "text/plain": [
       "<article class=\"post-card post tag-recursion tag-tech\">\n",
       "<a class=\"post-card-image-link\" href=\"recursion-for-beginners/\">\n",
       "<div class=\"post-card-image\" style=\"background-image: url(content/images/2017/11/1-7ZuOMhkxl0XbmTIKDu7Kxg-1.jpeg)\"></div>\n",
       "</a>\n",
       "<div class=\"post-card-content\">\n",
       "<a class=\"post-card-content-link\" href=\"recursion-for-beginners/\">\n",
       "<header class=\"post-card-header\">\n",
       "<span class=\"post-card-tags\">recursion</span>\n",
       "<h2 class=\"post-card-title\">Recursion For Beginners</h2>\n",
       "</header>\n",
       "<section class=\"post-card-excerpt\">\n",
       "<p>What is recursion? Recursion is a method where the solution to a problem depends on solutions to smaller instances of the same problem (as opposed to iteration). The approach can be applied to</p>\n",
       "</section>\n",
       "</a>\n",
       "<footer class=\"post-card-meta\">\n",
       "<img alt=\"Bolaji Olajide\" class=\"author-profile-image\" src=\"content/images/2017/11/Bolaji-Olajide--1-.jpg\"/>\n",
       "<span class=\"post-card-author\"><a href=\"author/bolaji/\">Bolaji Olajide</a></span>\n",
       "</footer>\n",
       "</div>\n",
       "</article>"
      ]
     },
     "execution_count": 25,
     "metadata": {},
     "output_type": "execute_result"
    }
   ],
   "source": [
    "single_post"
   ]
  },
  {
   "cell_type": "code",
   "execution_count": 27,
   "metadata": {},
   "outputs": [
    {
     "name": "stdout",
     "output_type": "stream",
     "text": [
      "What is recursion? Recursion is a method where the solution to a problem depends on solutions to smaller instances of the same problem (as opposed to iteration). The approach can be applied to\n",
      "Bolaji Olajide\n"
     ]
    }
   ],
   "source": [
    "title = single_post.find('h2', class_='post-card-title')\n",
    "\n",
    "title.text    \n",
    "excerpt = single_post.find('section', class_=\"post-card-excerpt\")\n",
    "\n",
    "print(excerpt.p.text)\n",
    "\n",
    "author = single_post.find('span', class_=\"post-card-author\")\n",
    "\n",
    "print(author.a.text)\n",
    "\n",
    "def get_post_details(article):\n",
    "    title = article.find('h2', class_='post-card-title').text\n",
    "    excerpt = article.find('section', class_='post-card-excerpt').p.text\n",
    "    author = article.find('span', class_='post-card-author').a.text\n",
    "    return {\n",
    "        \"title\": title,\n",
    "        \"excerpt\": excerpt,\n",
    "        \"author\": author\n",
    "    }\n",
    "\n"
   ]
  },
  {
   "cell_type": "code",
   "execution_count": 28,
   "metadata": {},
   "outputs": [
    {
     "name": "stdout",
     "output_type": "stream",
     "text": [
      "[{'title': 'Recursion For Beginners', 'excerpt': 'What is recursion? Recursion is a method where the solution to a problem depends on solutions to smaller instances of the same problem (as opposed to iteration). The approach can be applied to', 'author': 'Bolaji Olajide'}, {'title': 'Creating a Simple Python Decorator', 'excerpt': 'One of the amazing things about the Python language is the use of decorators to alter functionality. Decorators are used to extend functions without actually modifying them directly.', 'author': 'Bolaji Olajide'}, {'title': 'The Art of Learning\\u200a—\\u200aMy Learning Process', 'excerpt': 'Learning is the process of acquiring new or modifying existing knowledge, behaviors, skills, values, or preferences.', 'author': 'Bolaji Olajide'}]\n",
      "[{'title': 'Recursion For Beginners', 'excerpt': 'What is recursion? Recursion is a method where the solution to a problem depends on solutions to smaller instances of the same problem (as opposed to iteration). The approach can be applied to', 'author': 'Bolaji Olajide'}, {'title': 'Creating a Simple Python Decorator', 'excerpt': 'One of the amazing things about the Python language is the use of decorators to alter functionality. Decorators are used to extend functions without actually modifying them directly.', 'author': 'Bolaji Olajide'}, {'title': 'The Art of Learning\\u200a—\\u200aMy Learning Process', 'excerpt': 'Learning is the process of acquiring new or modifying existing knowledge, behaviors, skills, values, or preferences.', 'author': 'Bolaji Olajide'}]\n"
     ]
    }
   ],
   "source": [
    "# Making use of list comprehension instead of loops\n",
    "blog_posts = [get_post_details(post) for post in posts ];\n",
    "\n",
    "print(blog_posts)\n",
    "blog_posts = []\n",
    "for post in posts:\n",
    "    blog_posts.append(get_post_details(post))\n",
    "\n",
    "print(blog_posts)\n"
   ]
  },
  {
   "cell_type": "code",
   "execution_count": null,
   "metadata": {},
   "outputs": [],
   "source": []
  }
 ],
 "metadata": {
  "kernelspec": {
   "display_name": "Python 3",
   "language": "python",
   "name": "python3"
  },
  "language_info": {
   "codemirror_mode": {
    "name": "ipython",
    "version": 3
   },
   "file_extension": ".py",
   "mimetype": "text/x-python",
   "name": "python",
   "nbconvert_exporter": "python",
   "pygments_lexer": "ipython3",
   "version": "3.7.3"
  }
 },
 "nbformat": 4,
 "nbformat_minor": 2
}
